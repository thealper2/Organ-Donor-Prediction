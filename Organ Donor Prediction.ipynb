{
 "cells": [
  {
   "cell_type": "code",
   "execution_count": 26,
   "id": "f301ebf0",
   "metadata": {},
   "outputs": [],
   "source": [
    "import numpy as np\n",
    "import pandas as pd\n",
    "import pickle\n",
    "import matplotlib.pyplot as plt\n",
    "import seaborn as sns\n",
    "from sklearn.tree import DecisionTreeClassifier\n",
    "from sklearn.ensemble import RandomForestClassifier\n",
    "from sklearn.linear_model import LogisticRegression\n",
    "from sklearn.metrics import accuracy_score, confusion_matrix\n",
    "from sklearn.preprocessing import LabelEncoder\n",
    "from sklearn.model_selection import train_test_split"
   ]
  },
  {
   "cell_type": "code",
   "execution_count": 2,
   "id": "8de99fd9",
   "metadata": {},
   "outputs": [],
   "source": [
    "df = pd.read_csv(\"Raw_Data_for_train_test.csv\")"
   ]
  },
  {
   "cell_type": "code",
   "execution_count": null,
   "id": "109e63e1",
   "metadata": {},
   "outputs": [],
   "source": [
    "df.head()"
   ]
  },
  {
   "cell_type": "code",
   "execution_count": 4,
   "id": "6c659b0a",
   "metadata": {},
   "outputs": [
    {
     "data": {
      "text/plain": [
       "(19372, 50)"
      ]
     },
     "execution_count": 4,
     "metadata": {},
     "output_type": "execute_result"
    }
   ],
   "source": [
    "df.shape"
   ]
  },
  {
   "cell_type": "code",
   "execution_count": null,
   "id": "6dbb20da",
   "metadata": {},
   "outputs": [],
   "source": [
    "df.info()"
   ]
  },
  {
   "cell_type": "code",
   "execution_count": null,
   "id": "11a60c5d",
   "metadata": {},
   "outputs": [],
   "source": [
    "df.isnull().sum()"
   ]
  },
  {
   "cell_type": "code",
   "execution_count": 7,
   "id": "ca672041",
   "metadata": {},
   "outputs": [],
   "source": [
    "df.drop(\"TARGET_D\", axis=1, inplace=True)"
   ]
  },
  {
   "cell_type": "code",
   "execution_count": 8,
   "id": "a9e4f496",
   "metadata": {},
   "outputs": [],
   "source": [
    "df[\"DONOR_AGE\"] = df[\"DONOR_AGE\"].fillna(df[\"DONOR_AGE\"].mean())\n",
    "df[\"DONOR_AGE\"] = df[\"DONOR_AGE\"].astype(\"int64\")\n",
    "\n",
    "df[\"INCOME_GROUP\"] = df[\"INCOME_GROUP\"].fillna(df[\"INCOME_GROUP\"].mode()[0])\n",
    "df[\"INCOME_GROUP\"] = df[\"INCOME_GROUP\"].astype(\"int64\")\n",
    "\n",
    "df[\"WEALTH_RATING\"] = df[\"WEALTH_RATING\"].fillna(df[\"WEALTH_RATING\"].mode()[0])\n",
    "df[\"WEALTH_RATING\"] = df[\"WEALTH_RATING\"].astype(\"int64\")"
   ]
  },
  {
   "cell_type": "code",
   "execution_count": 14,
   "id": "d424ec24",
   "metadata": {},
   "outputs": [],
   "source": [
    "df[\"SES\"] = df[\"SES\"].str.replace(\"?\", \"2\")\n",
    "df[\"SES\"] = df[\"SES\"].astype(\"int64\")\n",
    "\n",
    "df[\"URBANICITY\"] = df[\"URBANICITY\"].str.replace(\"?\", \"S\")\n",
    "\n",
    "df[\"CLUSTER_CODE\"] = df[\"CLUSTER_CODE\"].str.replace(\".\", \"40\")\n",
    "df[\"CLUSTER_CODE\"] = df[\"CLUSTER_CODE\"].astype(\"int64\")"
   ]
  },
  {
   "cell_type": "code",
   "execution_count": 10,
   "id": "0a964e45",
   "metadata": {},
   "outputs": [],
   "source": [
    "df = df.dropna()"
   ]
  },
  {
   "cell_type": "code",
   "execution_count": 15,
   "id": "74a3875b",
   "metadata": {},
   "outputs": [
    {
     "data": {
      "text/plain": [
       "(19126, 49)"
      ]
     },
     "execution_count": 15,
     "metadata": {},
     "output_type": "execute_result"
    }
   ],
   "source": [
    "df.shape"
   ]
  },
  {
   "cell_type": "code",
   "execution_count": null,
   "id": "b80693de",
   "metadata": {},
   "outputs": [],
   "source": [
    "df.head()"
   ]
  },
  {
   "cell_type": "code",
   "execution_count": 17,
   "id": "47fe51e8",
   "metadata": {},
   "outputs": [],
   "source": [
    "cols = []\n",
    "\n",
    "for col in df.columns:\n",
    "    if df[col].dtype == \"object\":\n",
    "        cols.append(col)"
   ]
  },
  {
   "cell_type": "code",
   "execution_count": 20,
   "id": "20bdd1df",
   "metadata": {},
   "outputs": [],
   "source": [
    "def label_encoder(column):\n",
    "    le = LabelEncoder().fit(column)\n",
    "    print(column.name, le.classes_)\n",
    "    return le.transform(column)"
   ]
  },
  {
   "cell_type": "code",
   "execution_count": 21,
   "id": "1d621622",
   "metadata": {},
   "outputs": [
    {
     "name": "stdout",
     "output_type": "stream",
     "text": [
      "URBANICITY ['C' 'R' 'S' 'T' 'U']\n",
      "HOME_OWNER ['H' 'U']\n",
      "DONOR_GENDER ['A' 'F' 'M' 'U']\n",
      "OVERLAY_SOURCE ['B' 'M' 'N' 'P']\n",
      "RECENCY_STATUS_96NK ['A' 'E' 'F' 'L' 'N' 'S']\n"
     ]
    }
   ],
   "source": [
    "for col in cols:\n",
    "    df[col] = label_encoder(df[col])"
   ]
  },
  {
   "cell_type": "code",
   "execution_count": null,
   "id": "6a8e79a9",
   "metadata": {},
   "outputs": [],
   "source": [
    "sns.barplot(x=\"TARGET_B\", y=\"IN_HOUSE\", data=df)"
   ]
  },
  {
   "cell_type": "code",
   "execution_count": null,
   "id": "cd6c0782",
   "metadata": {},
   "outputs": [],
   "source": [
    "sns.countplot(x=\"TARGET_B\", hue=\"SES\", data=df)"
   ]
  },
  {
   "cell_type": "code",
   "execution_count": 24,
   "id": "bf8ca8ad",
   "metadata": {},
   "outputs": [],
   "source": [
    "X = df.drop(\"TARGET_B\", axis=1)\n",
    "y = df[\"TARGET_B\"]"
   ]
  },
  {
   "cell_type": "code",
   "execution_count": 27,
   "id": "364ea13a",
   "metadata": {},
   "outputs": [],
   "source": [
    "X_train, X_test, y_train, y_test = train_test_split(X, y, test_size=0.2, random_state=4242)"
   ]
  },
  {
   "cell_type": "code",
   "execution_count": 30,
   "id": "6c8400e2",
   "metadata": {},
   "outputs": [
    {
     "name": "stderr",
     "output_type": "stream",
     "text": [
      "/usr/local/lib/python3.11/dist-packages/sklearn/linear_model/_logistic.py:458: ConvergenceWarning: lbfgs failed to converge (status=1):\n",
      "STOP: TOTAL NO. of ITERATIONS REACHED LIMIT.\n",
      "\n",
      "Increase the number of iterations (max_iter) or scale the data as shown in:\n",
      "    https://scikit-learn.org/stable/modules/preprocessing.html\n",
      "Please also refer to the documentation for alternative solver options:\n",
      "    https://scikit-learn.org/stable/modules/linear_model.html#logistic-regression\n",
      "  n_iter_i = _check_optimize_result(\n"
     ]
    }
   ],
   "source": [
    "logreg = LogisticRegression()\n",
    "logreg.fit(X_train, y_train)\n",
    "y_pred = logreg.predict(X_test)\n",
    "ac1 = accuracy_score(y_test, y_pred)"
   ]
  },
  {
   "cell_type": "code",
   "execution_count": 32,
   "id": "fde4053c",
   "metadata": {},
   "outputs": [],
   "source": [
    "dt = DecisionTreeClassifier()\n",
    "dt.fit(X_train, y_train)\n",
    "y_pred = dt.predict(X_test)\n",
    "ac2 = accuracy_score(y_test, y_pred)"
   ]
  },
  {
   "cell_type": "code",
   "execution_count": 31,
   "id": "1b162944",
   "metadata": {},
   "outputs": [],
   "source": [
    "rf = RandomForestClassifier()\n",
    "rf.fit(X_train, y_train)\n",
    "y_pred = rf.predict(X_test)\n",
    "ac3 = accuracy_score(y_test, y_pred)"
   ]
  },
  {
   "cell_type": "code",
   "execution_count": 33,
   "id": "5eb6e463",
   "metadata": {},
   "outputs": [],
   "source": [
    "names = [\"Logistic Regression\", \"Decision Tree\", \"Random Forest\"]\n",
    "scores = [ac1, ac2, ac3]"
   ]
  },
  {
   "cell_type": "code",
   "execution_count": 34,
   "id": "9b8e6e3c",
   "metadata": {},
   "outputs": [
    {
     "data": {
      "text/html": [
       "<div>\n",
       "<style scoped>\n",
       "    .dataframe tbody tr th:only-of-type {\n",
       "        vertical-align: middle;\n",
       "    }\n",
       "\n",
       "    .dataframe tbody tr th {\n",
       "        vertical-align: top;\n",
       "    }\n",
       "\n",
       "    .dataframe thead th {\n",
       "        text-align: right;\n",
       "    }\n",
       "</style>\n",
       "<table border=\"1\" class=\"dataframe\">\n",
       "  <thead>\n",
       "    <tr style=\"text-align: right;\">\n",
       "      <th></th>\n",
       "      <th>Model</th>\n",
       "      <th>Score</th>\n",
       "    </tr>\n",
       "  </thead>\n",
       "  <tbody>\n",
       "    <tr>\n",
       "      <th>0</th>\n",
       "      <td>Logistic Regression</td>\n",
       "      <td>0.737324</td>\n",
       "    </tr>\n",
       "    <tr>\n",
       "      <th>1</th>\n",
       "      <td>Decision Tree</td>\n",
       "      <td>0.630685</td>\n",
       "    </tr>\n",
       "    <tr>\n",
       "      <th>2</th>\n",
       "      <td>Random Forest</td>\n",
       "      <td>0.736278</td>\n",
       "    </tr>\n",
       "  </tbody>\n",
       "</table>\n",
       "</div>"
      ],
      "text/plain": [
       "                 Model     Score\n",
       "0  Logistic Regression  0.737324\n",
       "1        Decision Tree  0.630685\n",
       "2        Random Forest  0.736278"
      ]
     },
     "execution_count": 34,
     "metadata": {},
     "output_type": "execute_result"
    }
   ],
   "source": [
    "models = pd.DataFrame({\"Model\": names, \"Score\": scores})\n",
    "models.head()"
   ]
  },
  {
   "cell_type": "code",
   "execution_count": 37,
   "id": "b2ad9b27",
   "metadata": {},
   "outputs": [
    {
     "data": {
      "text/plain": [
       "<AxesSubplot: xlabel='Model', ylabel='Score'>"
      ]
     },
     "execution_count": 37,
     "metadata": {},
     "output_type": "execute_result"
    },
    {
     "data": {
      "image/png": "[encoded data removed]",
      "text/plain": [
       "<Figure size 640x480 with 1 Axes>"
      ]
     },
     "metadata": {},
     "output_type": "display_data"
    }
   ],
   "source": [
    "sns.barplot(x=\"Model\", y=\"Score\", data=models)"
   ]
  },
  {
   "cell_type": "code",
   "execution_count": 38,
   "id": "fbd0cf2b",
   "metadata": {},
   "outputs": [
    {
     "data": {
      "text/plain": [
       "<AxesSubplot: >"
      ]
     },
     "execution_count": 38,
     "metadata": {},
     "output_type": "execute_result"
    },
    {
     "data": {
      "image/png": "[encoded data removed]",
      "text/plain": [
       "<Figure size 640x480 with 2 Axes>"
      ]
     },
     "metadata": {},
     "output_type": "display_data"
    }
   ],
   "source": [
    "cm = confusion_matrix(y_test, y_pred)\n",
    "sns.heatmap(cm, annot=True, fmt=\".0f\", cmap=\"Set2\")"
   ]
  },
  {
   "cell_type": "code",
   "execution_count": 35,
   "id": "cc5dae0c",
   "metadata": {},
   "outputs": [],
   "source": [
    "pickle.dump(rf, open(\"rf.pkl\", \"wb\"))"
   ]
  },
  {
   "cell_type": "code",
   "execution_count": null,
   "id": "5811f5e3",
   "metadata": {},
   "outputs": [],
   "source": []
  }
 ],
 "metadata": {
  "kernelspec": {
   "display_name": "Python 3 (ipykernel)",
   "language": "python",
   "name": "python3"
  },
  "language_info": {
   "codemirror_mode": {
    "name": "ipython",
    "version": 3
   },
   "file_extension": ".py",
   "mimetype": "text/x-python",
   "name": "python",
   "nbconvert_exporter": "python",
   "pygments_lexer": "ipython3",
   "version": "3.11.2"
  }
 },
 "nbformat": 4,
 "nbformat_minor": 5
}
